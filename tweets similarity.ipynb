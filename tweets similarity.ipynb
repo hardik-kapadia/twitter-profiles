{
 "cells": [
  {
   "cell_type": "code",
   "execution_count": null,
   "metadata": {},
   "outputs": [
    {
     "ename": "",
     "evalue": "",
     "output_type": "error",
     "traceback": [
      "\u001b[1;31mRunning cells with 'Python 3.9.13 ('dataplay')' requires ipykernel package.\n",
      "\u001b[1;31mRun the following command to install 'ipykernel' into the Python environment. \n",
      "\u001b[1;31mCommand: 'conda install -n dataplay ipykernel --update-deps --force-reinstall'"
     ]
    }
   ],
   "source": [
    "from dataclasses import dataclass\n",
    "import yaml\n",
    "import tweepy\n",
    "import sys\n",
    "import asyncio\n",
    "\n",
    "from tweepy.asynchronous import AsyncClient"
   ]
  },
  {
   "cell_type": "code",
   "execution_count": null,
   "metadata": {},
   "outputs": [],
   "source": [
    "@dataclass(init=True, repr=True, frozen=True)\n",
    "class TwitterUser:\n",
    "    \n",
    "    id_ : str\n",
    "    username: str\n",
    "    name: str\n",
    "    tweets: str"
   ]
  },
  {
   "cell_type": "code",
   "execution_count": null,
   "metadata": {},
   "outputs": [],
   "source": [
    "@dataclass(init=True, repr=True, frozen=True)\n",
    "class Tweet:\n",
    "\n",
    "    id_: str\n",
    "    text: str\n",
    "    context_annotations: list"
   ]
  },
  {
   "cell_type": "code",
   "execution_count": null,
   "metadata": {},
   "outputs": [],
   "source": [
    "class TwitterData:\n",
    "\n",
    "    def __init__(self, filename: str = \"twitter-oauth.yaml\") -> None:\n",
    "\n",
    "        temp_twitter_auth_data = {}\n",
    "\n",
    "        with open(filename, \"r\") as yamlfile:\n",
    "            temp_twitter_auth_data = yaml.load(\n",
    "                yamlfile, Loader=yaml.FullLoader)\n",
    "\n",
    "        self.twitter_auth_creds = temp_twitter_auth_data['TWITTER']\n",
    "\n",
    "        self.client = AsyncClient(access_token=self.twitter_auth_creds['ACCESS_TOKEN'],\n",
    "                                access_token_secret=self.twitter_auth_creds['ACCESS_TOKEN_SECRET'],\n",
    "                                consumer_key=self.twitter_auth_creds['COSUMER_KEY'],\n",
    "                                consumer_secret=self.twitter_auth_creds['CONSUMER_SECRET'],\n",
    "                                bearer_token=self.twitter_auth_creds['BEARER_TOKEN'],\n",
    "                                wait_on_rate_limit=True)\n",
    "\n",
    "    async def get_user_data_from_username(self, screen_name: str):\n",
    "\n",
    "        print(f'now fetching for: {screen_name}')\n",
    "\n",
    "        user_data = await self.client.get_user(username=screen_name, user_fields=['public_metrics'])\n",
    "\n",
    "        # return await self.get_twitter_user_from_user_data(user_data)\n",
    "\n",
    "        user_id = user_data.data.id\n",
    "\n",
    "        recent_tweets = self.get_users_recent_tweets(user_id)\n",
    "\n",
    "        return TwitterUser(\n",
    "            user_id,\n",
    "            user_data.data.username,\n",
    "            user_data.data.name,\n",
    "            await recent_tweets\n",
    "        )\n",
    "\n",
    "    async def get_users_recent_tweets(self, user_id, max_tweets=100):\n",
    "\n",
    "        tweets = await self.client.get_users_tweets(\n",
    "            user_id, tweet_fields=['context_annotations'], max_results=max_tweets)\n",
    "\n",
    "        final_tweets = []\n",
    "\n",
    "        if not tweets.data:\n",
    "            return []\n",
    "\n",
    "        for tweet in tweets.data:\n",
    "\n",
    "            tweet_context_annotations = []\n",
    "\n",
    "            tweet_id = tweet.id\n",
    "            tweet_text = tweet.text\n",
    "            tweet_temp_context_annotations = tweet.context_annotations\n",
    "\n",
    "            for context in tweet_temp_context_annotations:\n",
    "\n",
    "                entity_name = context['entity']['name']\n",
    "\n",
    "                if not entity_name in tweet_context_annotations:\n",
    "                    tweet_context_annotations.append(entity_name)\n",
    "\n",
    "            final_tweet = Tweet(\n",
    "                tweet_id,\n",
    "                tweet_text,\n",
    "                tweet_context_annotations\n",
    "            )\n",
    "\n",
    "            final_tweets.append(final_tweet)\n",
    "\n",
    "        return final_tweets"
   ]
  },
  {
   "cell_type": "code",
   "execution_count": null,
   "metadata": {},
   "outputs": [],
   "source": [
    "def transform_tweets_to_text(tweets: list):\n",
    "    \n",
    "    text = \"\"\n",
    "    \n",
    "    for tweet in tweets:\n",
    "        \n",
    "        text+=tweet.text + \" \"\n",
    "        \n",
    "        for entity in tweet.context_annotation:\n",
    "            text+= entity.strip() + \" \"\n",
    "            \n",
    "    return text"
   ]
  }
 ],
 "metadata": {
  "kernelspec": {
   "display_name": "Python 3.9.13 ('dataplay')",
   "language": "python",
   "name": "python3"
  },
  "language_info": {
   "name": "python",
   "version": "3.9.13"
  },
  "orig_nbformat": 4,
  "vscode": {
   "interpreter": {
    "hash": "c7cdf6928b248f07390e636426c024d8085b31145655a5c8d3adb36368fa64da"
   }
  }
 },
 "nbformat": 4,
 "nbformat_minor": 2
}
